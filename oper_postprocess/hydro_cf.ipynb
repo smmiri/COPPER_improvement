{
 "cells": [
  {
   "cell_type": "code",
   "execution_count": 62,
   "metadata": {},
   "outputs": [],
   "source": [
    "import glob\n",
    "import os\n",
    "import pandas as pd\n",
    "\n",
    "def fixpath(path):\n",
    "    if path.startswith(\"C:\"): return \"/mnt/c/\" + path.replace(\"\\\\\", \"/\")[3:]\n",
    "    else:\n",
    "        pass\n",
    "    return path\n",
    "\n",
    "os.chdir(fixpath(r'C:\\Users\\smoha\\Downloads\\SILVER_BC_Cascade\\SILVER_BC_Cascade\\SILVER_Data\\user_inputs\\Hydro_Data-BC_Cascade'))\n",
    "\n",
    "# Read the hydro data\n",
    "cascade_cf = pd.read_csv('hydro_cascade.csv', index_col=0)\n",
    "src_index = cascade_cf.index\n",
    "cascade_cf.reset_index(inplace=True)\n",
    "cascade_cf.index = pd.to_datetime(cascade_cf.index, unit='h', dayfirst=True, origin='2050-01-01')\n",
    "\n",
    "cascade_pmin = pd.read_csv('hydro_cascade_pmin.csv', index_col=0)\n",
    "cascade_pmin.reset_index(inplace=True)\n",
    "cascade_pmin.index = pd.to_datetime(cascade_pmin.index, unit='h', dayfirst=True, origin='2050-01-01')\n",
    "\n",
    "hourly_cf = pd.read_csv('hydro_hourly.csv', index_col=0)\n",
    "hourly_cf.reset_index(inplace=True)\n",
    "hourly_cf.index = pd.to_datetime(hourly_cf.index, unit='h', dayfirst=True, origin='2050-01-01')\n",
    "\n",
    "hourly_pmin = pd.read_csv('hydro_hourly_pmin.csv', index_col=0)\n",
    "hourly_pmin.reset_index(inplace=True)\n",
    "hourly_pmin.index = pd.to_datetime(hourly_pmin.index, unit='h', dayfirst=True, origin='2050-01-01')"
   ]
  },
  {
   "cell_type": "code",
   "execution_count": 33,
   "metadata": {},
   "outputs": [
    {
     "name": "stdout",
     "output_type": "stream",
     "text": [
      "DatetimeIndex(['2050-01-01 00:00:00', '2050-01-01 01:00:00',\n",
      "               '2050-01-01 02:00:00', '2050-01-01 03:00:00',\n",
      "               '2050-01-01 04:00:00', '2050-01-01 05:00:00',\n",
      "               '2050-01-01 06:00:00', '2050-01-01 07:00:00',\n",
      "               '2050-01-01 08:00:00', '2050-01-01 09:00:00',\n",
      "               '2050-01-01 10:00:00', '2050-01-01 11:00:00',\n",
      "               '2050-01-01 12:00:00', '2050-01-01 13:00:00',\n",
      "               '2050-01-01 14:00:00', '2050-01-01 15:00:00',\n",
      "               '2050-01-01 16:00:00', '2050-01-01 17:00:00',\n",
      "               '2050-01-01 18:00:00', '2050-01-01 19:00:00',\n",
      "               '2050-01-01 20:00:00', '2050-01-01 21:00:00',\n",
      "               '2050-01-01 22:00:00', '2050-01-01 23:00:00',\n",
      "               '2050-01-02 00:00:00'],\n",
      "              dtype='datetime64[ns]', freq='H')\n"
     ]
    }
   ],
   "source": [
    "# Select the periods of interest\n",
    "\n",
    "periods = input(\"Enter the period of interest in dates (e.g. 2050-01-01 to 2050-03-01): \")\n",
    "periods = periods.split('to')\n",
    "periods = [pd.to_datetime(periods[0]), pd.to_datetime(periods[1])]\n",
    "timeline = pd.date_range(periods[0], periods[1], freq='H')\n",
    "print(timeline)"
   ]
  },
  {
   "cell_type": "code",
   "execution_count": 45,
   "metadata": {},
   "outputs": [
    {
     "name": "stdout",
     "output_type": "stream",
     "text": [
      "The following cascades are available: \n",
      "Index(['cascade_1', 'cascade_2', 'cascade_3', 'cascade_4', 'cascade_5',\n",
      "       'cascade_6', 'cascade_7', 'cascade_8', 'cascade_9', 'cascade_10',\n",
      "       'cascade_11', 'cascade_12', 'cascade_13', 'cascade_14', 'cascade_15',\n",
      "       'cascade_16', 'cascade_17', 'cascade_18', 'cascade_19', 'cascade_20',\n",
      "       'cascade_21', 'cascade_22', 'cascade_23', 'cascade_24', 'cascade_25'],\n",
      "      dtype='object')\n",
      "['cascade_2', 'cascade_4']\n"
     ]
    }
   ],
   "source": [
    "# Selecting the cascades of interest\n",
    "\n",
    "print(\"The following cascades are available: \")\n",
    "print(cascade_cf.columns[1:-3])\n",
    "imp_cascades = input(\"Enter the cascade(s) of interest from the list (e.g. 1,2,3): \")\n",
    "imp_cascades = imp_cascades.split(',')\n",
    "imp_cascades = [int(i) for i in imp_cascades]\n",
    "imp_cascades = [cascade_cf.columns[i] for i in imp_cascades]\n",
    "print(imp_cascades)"
   ]
  },
  {
   "cell_type": "code",
   "execution_count": 63,
   "metadata": {},
   "outputs": [],
   "source": [
    "# Changing the minimum capacity of the cascades\n",
    "\n",
    "imp_factor = input(\"Enter the factor by which the cascading minimum caoacity should be increased (e.g. 1.2): \")\n",
    "imp_factor = float(imp_factor)\n",
    "imp_cascade_pmin = pd.DataFrame(cascade_pmin)\n",
    "imp_cascade_pmin.loc[(cascade_pmin.index >= timeline[0]) & (cascade_pmin.index <= timeline[-1]), imp_cascades] = cascade_pmin.loc[(cascade_pmin.index >= timeline[0]) & (cascade_pmin.index <= timeline[-1]), imp_cascades] * imp_factor"
   ]
  },
  {
   "cell_type": "code",
   "execution_count": 59,
   "metadata": {},
   "outputs": [],
   "source": [
    "# Writing to new files\n",
    "\n",
    "scen = input(\"Enter the scenario name: \")\n",
    "imp_cascade_pmin.to_csv('hydro_cascade_pmin_' + scen + '.csv', index=False)"
   ]
  }
 ],
 "metadata": {
  "kernelspec": {
   "display_name": "etl-env",
   "language": "python",
   "name": "python3"
  },
  "language_info": {
   "codemirror_mode": {
    "name": "ipython",
    "version": 3
   },
   "file_extension": ".py",
   "mimetype": "text/x-python",
   "name": "python",
   "nbconvert_exporter": "python",
   "pygments_lexer": "ipython3",
   "version": "3.8.10 (default, Nov 14 2022, 12:59:47) \n[GCC 9.4.0]"
  },
  "orig_nbformat": 4,
  "vscode": {
   "interpreter": {
    "hash": "6d8f24f45ef014f5fb6768b31535b4dd99303d4856b951d6e9db5276c5b96092"
   }
  }
 },
 "nbformat": 4,
 "nbformat_minor": 2
}
