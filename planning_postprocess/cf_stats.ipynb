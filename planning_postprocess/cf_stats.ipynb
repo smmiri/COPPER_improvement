{
 "cells": [
  {
   "cell_type": "code",
   "execution_count": 1,
   "metadata": {},
   "outputs": [],
   "source": [
    "import os\n",
    "import pandas as pd\n",
    "from pathlib import Path\n",
    "import seaborn as sns\n",
    "import matplotlib.pyplot as plt\n",
    "\n",
    "os.chdir(os.getcwd() / Path('GRETA_2021_cf'))"
   ]
  },
  {
   "cell_type": "code",
   "execution_count": 2,
   "metadata": {},
   "outputs": [],
   "source": [
    "# Reading current cf data\n",
    "\n",
    "coordinate_df = pd.read_excel(\"coordinate.xlsx\")\n",
    "coordinate_df.dropna(inplace=True)\n",
    "coordinate_df.columns = ['lon', 'lat', 'province', 'merra_lon', 'merra_lat', 'grid cell']\n",
    "\n",
    "windcf = pd.read_csv(\"windcf.csv\",header=None)\n",
    "windcf.columns = ['hour', 'grid cell', 'cf']\n",
    "\n",
    "distance = pd.read_csv(\"distance_to_grid.csv\",header=None)\n",
    "distance.columns = ['grid cell', 'distance']"
   ]
  },
  {
   "cell_type": "code",
   "execution_count": 3,
   "metadata": {},
   "outputs": [],
   "source": [
    "windcf_prov = windcf.merge(coordinate_df[['grid cell', 'province']], on='grid cell', how='left')\n",
    "windcf_prov.dropna(subset='province',inplace=True)"
   ]
  },
  {
   "cell_type": "code",
   "execution_count": 4,
   "metadata": {},
   "outputs": [],
   "source": [
    "provinces = windcf_prov['province'].unique()\n",
    "windcf_province = {}\n",
    "\n",
    "for province in provinces:\n",
    "    df = windcf_prov.loc[windcf_prov['province'] == province]\n",
    "    df = pd.pivot_table(df, values='cf', index=['hour'], columns=['grid cell'])\n",
    "    df.loc['total'] = df.iloc[0:8758].sum()\n",
    "    df.loc['mean'] = df.iloc[0:8758].mean()\n",
    "    df.loc['std'] = df.iloc[0:8758].std()\n",
    "    df.loc['median'] = df.iloc[0:8758].median()\n",
    "    df.to_csv(f'windcf_{province}.csv')\n",
    "    windcf_province[province] = df"
   ]
  },
  {
   "cell_type": "code",
   "execution_count": 5,
   "metadata": {},
   "outputs": [],
   "source": [
    "for province in provinces:\n",
    "    df = pd.DataFrame(windcf_province[province])\n",
    "    df = df.iloc[0:8758]\n",
    "    df = df.to_numpy().flatten()\n",
    "    df = df[df != 0]\n",
    "    plt.hist(df, color='green', bins=20)\n",
    "    plt.title(f'Average VRE Capacity Factor in {province}')\n",
    "    plt.xlabel('Capacity Factor')\n",
    "    plt.ylabel('Frequency')\n",
    "    plt.savefig(f'cf_hist_{province}.png', dpi=300, bbox_inches='tight')\n",
    "    plt.close()\n",
    "    del df"
   ]
  },
  {
   "cell_type": "code",
   "execution_count": 12,
   "metadata": {},
   "outputs": [],
   "source": [
    "for province in provinces:\n",
    "    df = pd.DataFrame(windcf_province[province])\n",
    "    df = pd.DataFrame(df.loc['mean'].T)\n",
    "    df = df.merge(distance, on='grid cell', how='left')\n",
    "    sns.lmplot(x='distance', y='mean', data=df)\n",
    "    plt.title(f'Wind Capacity Factor vs Distance to Grid in {province}')\n",
    "    plt.xlabel('Distance to Grid (km)')\n",
    "    plt.ylabel('Annual average Capacity Factor')\n",
    "    plt.savefig(f'windcf_distance_{province}.jpg', dpi=300, bbox_inches='tight')\n",
    "    plt.close()\n",
    "    del df"
   ]
  }
 ],
 "metadata": {
  "kernelspec": {
   "display_name": "etl-env",
   "language": "python",
   "name": "python3"
  },
  "language_info": {
   "codemirror_mode": {
    "name": "ipython",
    "version": 3
   },
   "file_extension": ".py",
   "mimetype": "text/x-python",
   "name": "python",
   "nbconvert_exporter": "python",
   "pygments_lexer": "ipython3",
   "version": "3.10.9"
  },
  "orig_nbformat": 4,
  "vscode": {
   "interpreter": {
    "hash": "6d8f24f45ef014f5fb6768b31535b4dd99303d4856b951d6e9db5276c5b96092"
   }
  }
 },
 "nbformat": 4,
 "nbformat_minor": 2
}
